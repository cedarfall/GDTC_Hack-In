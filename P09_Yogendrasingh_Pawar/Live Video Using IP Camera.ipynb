{
 "cells": [
  {
   "cell_type": "markdown",
   "metadata": {},
   "source": [
    "# <center>Live Video Using IP Camera</center>"
   ]
  },
  {
   "cell_type": "code",
   "execution_count": 10,
   "metadata": {},
   "outputs": [],
   "source": [
    "# url of the live camera video\n",
    "url = 'http://192.168.43.1:8080/video'"
   ]
  },
  {
   "cell_type": "markdown",
   "metadata": {},
   "source": [
    "To get this URL, open the Camera IP address for eg: 'http://192.168.43.1:8080' in your web browser.\n",
    "\n",
    "Select the Video Renderer, this will start displaying the video obtained from the IP Camera.\n",
    "\n",
    "Right Click on this video and copy the video address (URL).\n",
    "\n",
    "In the above case I used the Browser video renderer and copied the url: http://192.168.43.1:8080/video"
   ]
  },
  {
   "cell_type": "code",
   "execution_count": null,
   "metadata": {},
   "outputs": [],
   "source": [
    "# Initialize a video capture object\n",
    "video = cv2.VideoCapture(url)\n",
    "\n",
    "while(True):\n",
    "    #Read an image frome\n",
    "    _, frame = video.read()\n",
    "    \n",
    "    print(frame)\n",
    "    # Display the image frame, with window titled 'Your Picture'\n",
    "    cv2.imshow('Your Video', frame)\n",
    "\n",
    "    # Wait for 1 milliseconds or until a key is pressed\n",
    "    key = cv2.waitKey(1) & 0xFF \n",
    "    \n",
    "    # Exit the loop when q is pressed\n",
    "    if key == ord('q'):\n",
    "        break\n",
    "        \n",
    "# Destroy all windows\n",
    "cv2.destroyAllWindows()\n",
    "\n",
    "# Release the camera\n",
    "video.release()"
   ]
  },
  {
   "cell_type": "markdown",
   "metadata": {},
   "source": [
    "## References Used:\n",
    "\n",
    "- https://stackoverflow.com/questions/50185654/opencv-load-video-from-url\n",
    "- https://lembergsolutions.com/blog/how-process-live-video-stream-using-ffmpeg-and-opencv"
   ]
  }
 ],
 "metadata": {
  "kernelspec": {
   "display_name": "Python 3",
   "language": "python",
   "name": "python3"
  },
  "language_info": {
   "codemirror_mode": {
    "name": "ipython",
    "version": 3
   },
   "file_extension": ".py",
   "mimetype": "text/x-python",
   "name": "python",
   "nbconvert_exporter": "python",
   "pygments_lexer": "ipython3",
   "version": "3.6.7"
  }
 },
 "nbformat": 4,
 "nbformat_minor": 2
}
