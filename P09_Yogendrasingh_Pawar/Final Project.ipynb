{
 "cells": [
  {
   "cell_type": "markdown",
   "metadata": {},
   "source": [
    "# <center> Final Project - Being Invisible </center>\n",
    "\n",
    "### Import the Required Libraries:"
   ]
  },
  {
   "cell_type": "code",
   "execution_count": 15,
   "metadata": {},
   "outputs": [],
   "source": [
    "import numpy as np\n",
    "import cv2\n",
    "import time"
   ]
  },
  {
   "cell_type": "markdown",
   "metadata": {},
   "source": [
    "### Processing the video:\n",
    "\n",
    "- In cv2.VideoCapture(0), you can also use a previously recored video instead of '0', the default camera.\n",
    "- However note that the first 15 seconds of the video will be considered as the background of the image"
   ]
  },
  {
   "cell_type": "code",
   "execution_count": 16,
   "metadata": {},
   "outputs": [],
   "source": [
    "# Initialize a video capture object\n",
    "video = cv2.VideoCapture(0)\n",
    "\n",
    "for i in range(5):\n",
    "    time.sleep(1)\n",
    "    _, frame = video.read()\n",
    "    \n",
    "background = frame\n",
    "    \n",
    "# Display the background, with window titled 'Your Picture'\n",
    "cv2.imshow('Your Background', background)\n",
    "\n",
    "# Capturing Live frame:\n",
    "\n",
    "while(True):\n",
    "    #Read an image frome\n",
    "    _, img = video.read()\n",
    "    \n",
    "    # Convert to HSV Colorspace\n",
    "    hsv = cv2.cvtColor(img,cv2.COLOR_BGR2HSV)\n",
    "    \n",
    "    # Range for blue (in HSV format)\n",
    "    lower_blue = np.array([110,50,50])\n",
    "    upper_blue = np.array([130,255,255])\n",
    "    \n",
    "    # Create a mask for the specified range\n",
    "    mask = cv2.inRange(hsv, lower_blue, upper_blue)\n",
    "    \n",
    "    # Applying some transforms to the mask for better results:\n",
    "    kernel = np.ones((5,5),np.uint8)\n",
    "    mask = cv2.morphologyEx(mask, cv2.MORPH_OPEN, kernel) # This is just dilation followed by erosion\n",
    "    \n",
    "    # Creating an inverted mask which when 'AND'ed with the original image will remove the mask\n",
    "    inv_mask = cv2.bitwise_not(mask)\n",
    "    \n",
    "    # Removing the mask from the frame\n",
    "    img1 = cv2.bitwise_and(img, img, inv_mask)\n",
    "    \n",
    "    # Creating dynamic background showing background for pixels which are segmented out by the inv_mask\n",
    "    back_dynamic = cv2.bitwise_and(background, background, mask = mask)\n",
    "    \n",
    "    # Display the image frame, with window titled 'Your Picture'\n",
    "    #Generating the final output\n",
    "    final_output = cv2.add(img1,back_dynamic)\n",
    "    cv2.imshow(\"Invisible\",final_output)\n",
    "\n",
    "    # Wait for 1 milliseconds or until a key is pressed\n",
    "    key = cv2.waitKey(1) & 0xFF \n",
    "    \n",
    "    # Exit the loop when q is pressed\n",
    "    if key == ord('q'):\n",
    "        break\n",
    "\n",
    "cv2.destroyAllWindows()\n",
    "video.release()"
   ]
  },
  {
   "cell_type": "markdown",
   "metadata": {},
   "source": [
    "## Priniciple:\n",
    "\n",
    "- Firstly, the video capture objects waits for 5 seconds, after which the last frame captured is considered as the background.\n",
    "\n",
    "\n",
    "- This background is what will be displayed when an object with colour in the range of the mask appears in the mask."
   ]
  },
  {
   "cell_type": "markdown",
   "metadata": {},
   "source": [
    "## Note:\n",
    "\n",
    "1) We convert to HSV colour format because it can easily be used with a variety of brightness levels of the same colour, whereas same cannot be said about the RGB format.\n",
    "\n",
    "2) If you want to use 'Red' coloured mask, there will be two masks which need to be added together. This is because in OpenCV's HSV format 'Red' colour is represented between Hue values: 0 - 10 & 170 - 180."
   ]
  }
 ],
 "metadata": {
  "kernelspec": {
   "display_name": "Python 3",
   "language": "python",
   "name": "python3"
  },
  "language_info": {
   "codemirror_mode": {
    "name": "ipython",
    "version": 3
   },
   "file_extension": ".py",
   "mimetype": "text/x-python",
   "name": "python",
   "nbconvert_exporter": "python",
   "pygments_lexer": "ipython3",
   "version": "3.6.7"
  }
 },
 "nbformat": 4,
 "nbformat_minor": 2
}
