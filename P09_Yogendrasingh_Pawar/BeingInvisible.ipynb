{
 "cells": [
  {
   "cell_type": "markdown",
   "metadata": {},
   "source": [
    "# <center>Being Invisible! </center>"
   ]
  },
  {
   "cell_type": "markdown",
   "metadata": {},
   "source": [
    "## Program to click a picture of yourself:"
   ]
  },
  {
   "cell_type": "code",
   "execution_count": 86,
   "metadata": {},
   "outputs": [],
   "source": [
    "import numpy as np\n",
    "import cv2\n",
    "import time"
   ]
  },
  {
   "cell_type": "code",
   "execution_count": 87,
   "metadata": {},
   "outputs": [],
   "source": [
    "# Initialize a video capture object\n",
    "cap = cv2.VideoCapture(0)\n",
    "\n",
    "#Read a single image frome\n",
    "_, frame = cap.read()\n",
    "\n",
    "# Display the image frame, with window titled 'Your Picture'\n",
    "cv2.imshow('Your Picture', frame)\n",
    "\n",
    "# Wait for 2 seconds or until a key is pressed\n",
    "cv2.waitKey(2000)\n",
    "\n",
    "# Destroy all windows\n",
    "cv2.destroyAllWindows()\n",
    "\n",
    "# Release the camera\n",
    "cap.release()"
   ]
  },
  {
   "cell_type": "markdown",
   "metadata": {},
   "source": [
    "Thus the above code captures an image frame which is diplayed for two seconds. To save this image use:"
   ]
  },
  {
   "cell_type": "code",
   "execution_count": 88,
   "metadata": {},
   "outputs": [
    {
     "data": {
      "text/plain": [
       "True"
      ]
     },
     "execution_count": 88,
     "metadata": {},
     "output_type": "execute_result"
    }
   ],
   "source": [
    "cv2.imwrite(filename = 'yourpicture.png', img = frame)"
   ]
  },
  {
   "cell_type": "markdown",
   "metadata": {},
   "source": [
    "## Program to take a live video:"
   ]
  },
  {
   "cell_type": "code",
   "execution_count": 89,
   "metadata": {},
   "outputs": [],
   "source": [
    "import numpy as np\n",
    "import cv2\n",
    "import time"
   ]
  },
  {
   "cell_type": "code",
   "execution_count": 90,
   "metadata": {},
   "outputs": [],
   "source": [
    "# Initialize a video capture object\n",
    "video = cv2.VideoCapture(0)\n",
    "\n",
    "while(True):\n",
    "    #Read an image frome\n",
    "    _, frame = video.read()\n",
    "    \n",
    "    # Display the image frame, with window titled 'Your Picture'\n",
    "    cv2.imshow('Your Video', frame)\n",
    "\n",
    "    # Wait for 1 milliseconds or until a key is pressed\n",
    "    key = cv2.waitKey(1) & 0xFF \n",
    "    \n",
    "    # Exit the loop when q is pressed\n",
    "    if key == ord('q'):\n",
    "        break\n",
    "        \n",
    "# Destroy all windows\n",
    "cv2.destroyAllWindows()\n",
    "\n",
    "# Release the camera\n",
    "video.release()"
   ]
  },
  {
   "cell_type": "markdown",
   "metadata": {},
   "source": [
    "Thus we have captured a live feed video.\n",
    "\n",
    "**Note :** We use the key = cv2.waitKey(1) & 0xFF because we are running a 64bit machine. See [Stackoverflow](https://stackoverflow.com/questions/35372700/whats-0xff-for-in-cv2-waitkey1)"
   ]
  },
  {
   "cell_type": "markdown",
   "metadata": {},
   "source": [
    "## Program to Crop your image:"
   ]
  },
  {
   "cell_type": "code",
   "execution_count": 91,
   "metadata": {},
   "outputs": [],
   "source": [
    "import numpy as np\n",
    "import cv2\n",
    "import time"
   ]
  },
  {
   "cell_type": "code",
   "execution_count": 92,
   "metadata": {},
   "outputs": [],
   "source": [
    "# Initialize a video capture object\n",
    "cap = cv2.VideoCapture(0)\n",
    "\n",
    "#Read a single image frome\n",
    "_, frame = cap.read()\n",
    "\n",
    "# Display the image frame, with window titled 'Your Picture'\n",
    "cv2.imshow('Your Picture', frame)\n",
    "\n",
    "# Wait for 2 seconds or until a key is pressed\n",
    "cv2.waitKey(2000)\n",
    "\n",
    "# Destroy all windows\n",
    "cv2.destroyAllWindows()\n",
    "\n",
    "# Release the camera\n",
    "cap.release()"
   ]
  },
  {
   "cell_type": "code",
   "execution_count": 93,
   "metadata": {},
   "outputs": [
    {
     "data": {
      "text/plain": [
       "(480, 640, 3)"
      ]
     },
     "execution_count": 93,
     "metadata": {},
     "output_type": "execute_result"
    }
   ],
   "source": [
    "# The shape of our image is:\n",
    "frame.shape"
   ]
  },
  {
   "cell_type": "markdown",
   "metadata": {},
   "source": [
    "**Note :** In OpenCV the dimensions are given as: (height, width, channels)"
   ]
  },
  {
   "cell_type": "markdown",
   "metadata": {},
   "source": [
    "The original image is:"
   ]
  },
  {
   "cell_type": "code",
   "execution_count": 94,
   "metadata": {},
   "outputs": [],
   "source": [
    "cv2.imshow('Original', frame)\n",
    "\n",
    "cv2.waitKey(0)\n",
    "\n",
    "cv2.destroyAllWindows()"
   ]
  },
  {
   "cell_type": "markdown",
   "metadata": {},
   "source": [
    "Assuming you are sitting in the middle, and occupy 100 pixels vertically & horizontally, the ROI will be [140:340, 220:420]"
   ]
  },
  {
   "cell_type": "code",
   "execution_count": 95,
   "metadata": {},
   "outputs": [],
   "source": [
    "crop = frame[140:340, 220:420]"
   ]
  },
  {
   "cell_type": "code",
   "execution_count": 96,
   "metadata": {},
   "outputs": [],
   "source": [
    "cv2.imshow('Cropped', crop)\n",
    "\n",
    "cv2.waitKey(0)\n",
    "\n",
    "cv2.destroyAllWindows()"
   ]
  },
  {
   "cell_type": "markdown",
   "metadata": {},
   "source": [
    "After seeing the cropped image, it is clear that we should extend the vertical limits till 480 and also increase the horizonatal limits as well. After some trial and error we get the following limits to crop your picture from the image frame:"
   ]
  },
  {
   "cell_type": "code",
   "execution_count": 97,
   "metadata": {},
   "outputs": [],
   "source": [
    "crop = frame[140:420, 170:510]\n",
    "\n",
    "cv2.imshow('Cropped', crop)\n",
    "\n",
    "cv2.waitKey(0)\n",
    "\n",
    "cv2.destroyAllWindows()"
   ]
  },
  {
   "cell_type": "code",
   "execution_count": 98,
   "metadata": {},
   "outputs": [
    {
     "data": {
      "text/plain": [
       "(280, 340, 3)"
      ]
     },
     "execution_count": 98,
     "metadata": {},
     "output_type": "execute_result"
    }
   ],
   "source": [
    "crop.shape"
   ]
  },
  {
   "cell_type": "markdown",
   "metadata": {},
   "source": [
    "Thus we have succesfully cropped our picture out of the image frame, the cropped image can easily be saved using the cv2.imwrite() function as shown above"
   ]
  },
  {
   "cell_type": "markdown",
   "metadata": {},
   "source": [
    "## References Used:\n",
    "\n",
    "- https://opencv-python-tutroals.readthedocs.io/en/latest/py_tutorials/py_tutorials.html\n",
    "- https://stackoverflow.com/questions/35372700/whats-0xff-for-in-cv2-waitkey1\n",
    "- https://stackoverflow.com/questions/15589517/how-to-crop-an-image-in-opencv-using-python\n",
    "- https://www.youtube.com/watch?v=-ZrDjwXZGxI"
   ]
  }
 ],
 "metadata": {
  "kernelspec": {
   "display_name": "Python 3",
   "language": "python",
   "name": "python3"
  },
  "language_info": {
   "codemirror_mode": {
    "name": "ipython",
    "version": 3
   },
   "file_extension": ".py",
   "mimetype": "text/x-python",
   "name": "python",
   "nbconvert_exporter": "python",
   "pygments_lexer": "ipython3",
   "version": "3.6.7"
  }
 },
 "nbformat": 4,
 "nbformat_minor": 2
}
